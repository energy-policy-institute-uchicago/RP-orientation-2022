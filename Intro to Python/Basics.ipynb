{
 "cells": [
  {
   "cell_type": "markdown",
   "id": "52c1c6b2",
   "metadata": {},
   "source": [
    "# Intro to Python - Part 1\n",
    "\n",
    "- **Why Python?**\n",
    "    - Geospatial analysis (Geopandas, Shapely, ...): Thursday \n",
    "    - Web scrapping (BeautifulSoup, Selenium, ...): Friday\n",
    "    - Machine Learning (Scikit-Learn, Pytorch)\n",
    "- **Goal of this session**\n",
    "    - Part 1: Basic syntax (data structure, control flow, functions)\n",
    "    - Part 2: NumPy, Objected-oriented programming, Parallel computing\n",
    "    - Part 3: Pandas\n",
    "\n",
    "---"
   ]
  },
  {
   "cell_type": "markdown",
   "id": "cc1cee46",
   "metadata": {},
   "source": [
    "## Outline\n",
    "\n",
    "- Types: Numbers, Strings, Booleans\n",
    "- Data Structures: List, Tuple, Dictionary\n",
    "- Control Flow Statements: If-else, for loop, while loop\n",
    "- Functions"
   ]
  },
  {
   "cell_type": "markdown",
   "id": "b23a5198",
   "metadata": {},
   "source": [
    "## Managing environment using Conda\n",
    "\n",
    "Reference: [Managing environments](https://docs.conda.io/projects/conda/en/latest/user-guide/tasks/manage-environments.html)"
   ]
  },
  {
   "cell_type": "markdown",
   "id": "5607b801",
   "metadata": {},
   "source": [
    "## Programming Basics\n",
    "\n",
    "### Basic Types\n",
    "\n",
    "- Numbers: integer and real numbers\n",
    "- Strings: text\n",
    "- Booleans: _True_ or _False_\n",
    "- None: indication of absence of a value"
   ]
  },
  {
   "cell_type": "code",
   "execution_count": 1,
   "id": "32d9daa6",
   "metadata": {},
   "outputs": [
    {
     "name": "stdout",
     "output_type": "stream",
     "text": [
      "<class 'int'>\n",
      "<class 'str'>\n",
      "<class 'bool'>\n",
      "<class 'NoneType'>\n"
     ]
    }
   ],
   "source": [
    "a = 1\n",
    "print(type(a))\n",
    "\n",
    "b = \"hello wolrd!\"\n",
    "print(type(b))\n",
    "\n",
    "c = True # Note that Python is case sensitive, so the capital letter is required\n",
    "print(type(c))\n",
    "\n",
    "d = None\n",
    "print(type(d))"
   ]
  },
  {
   "cell_type": "markdown",
   "id": "1371bf28",
   "metadata": {},
   "source": [
    "### Operations\n",
    "\n",
    "- Arithmetic operations on numbers: `+, -, *, **, /, //, %` \n",
    "- Relational operations on numbers: `>, <, >=, <=, ==, !=`"
   ]
  },
  {
   "cell_type": "code",
   "execution_count": 2,
   "id": "c25b77fa",
   "metadata": {},
   "outputs": [
    {
     "name": "stdout",
     "output_type": "stream",
     "text": [
      "5\n",
      "1\n",
      "6\n",
      "9\n",
      "1.5\n",
      "1\n",
      "1\n",
      "True\n",
      "False\n",
      "True\n"
     ]
    }
   ],
   "source": [
    "print(3 + 2)\n",
    "print(3 - 2)\n",
    "print(3 * 2)\n",
    "print(3 ** 2)\n",
    "print(3 / 2)\n",
    "print(3 // 2) # integer division\n",
    "print(3 % 2) # mod\n",
    "print(3 > 2)\n",
    "print(3 == 2)\n",
    "print(3 != 2)"
   ]
  },
  {
   "cell_type": "markdown",
   "id": "50731848",
   "metadata": {},
   "source": [
    "- Concatenate strings: `+`\n",
    "    - Warning: you can not add a number to a string! Instead, convert the number to a string first.\n",
    "- Comparing strings: `==, !=`\n",
    "    - Warning: do not compare strings with numbers"
   ]
  },
  {
   "cell_type": "code",
   "execution_count": 6,
   "id": "c6e592a7",
   "metadata": {},
   "outputs": [
    {
     "name": "stdout",
     "output_type": "stream",
     "text": [
      "abcdef\n",
      "123123\n",
      "123123\n",
      "246\n",
      "True\n",
      "False\n"
     ]
    }
   ],
   "source": [
    "print(\"abc\" + \"def\")\n",
    "print(\"123\" + str(123))\n",
    "number = 123\n",
    "print(f\"123{number}\")\n",
    "print(int(\"123\") + 123)\n",
    "\n",
    "string = \"abc\"\n",
    "print(\"abc\" == string)\n",
    "\n",
    "print(\"123\" == 123)"
   ]
  },
  {
   "cell_type": "markdown",
   "id": "0c2b7fd6",
   "metadata": {},
   "source": [
    "- Boolean expression: `and, or, not`\n",
    "    - Note: If the value of the left operand determines the result of the operation, then the right operand is not evaluated; that is\n",
    "        - (True) or (_)\n",
    "        - (False) and (_)"
   ]
  },
  {
   "cell_type": "code",
   "execution_count": 10,
   "id": "4552768e",
   "metadata": {},
   "outputs": [
    {
     "name": "stdout",
     "output_type": "stream",
     "text": [
      "False\n",
      "True\n",
      "False\n",
      "False\n"
     ]
    }
   ],
   "source": [
    "x = 1\n",
    "y = 0\n",
    "\n",
    "print((x > y) and (x < y+1))\n",
    "print((x > y) or (x < y+1))\n",
    "print(not (x > y))\n",
    "\n",
    "print((y != 0) and (x / y == 0))\n",
    "# print((x / y == 0) and (y != 0))"
   ]
  },
  {
   "cell_type": "markdown",
   "id": "e5937177",
   "metadata": {},
   "source": [
    "### List"
   ]
  },
  {
   "cell_type": "code",
   "execution_count": 11,
   "id": "443451dc",
   "metadata": {},
   "outputs": [],
   "source": [
    "empty_lst = []\n",
    "num_list = [1, 2, 3]\n",
    "str_list = [\"a\", \"b\", \"c\"]\n",
    "mixed_lst = [1, \"a\", True] # We can do this but this is not the best practice"
   ]
  },
  {
   "cell_type": "markdown",
   "id": "f1af1aa4",
   "metadata": {},
   "source": [
    "Concatenate lists"
   ]
  },
  {
   "cell_type": "code",
   "execution_count": 12,
   "id": "31427a06",
   "metadata": {},
   "outputs": [
    {
     "data": {
      "text/plain": [
       "[1, 2, 3, 4, 5, 6, 7, 8]"
      ]
     },
     "execution_count": 12,
     "metadata": {},
     "output_type": "execute_result"
    }
   ],
   "source": [
    "list1 = [1, 2, 3, 4, 5]\n",
    "list2 = [6, 7, 8]\n",
    "list1 + list2"
   ]
  },
  {
   "cell_type": "markdown",
   "id": "00306b79",
   "metadata": {},
   "source": [
    "Access elements in a list"
   ]
  },
  {
   "cell_type": "code",
   "execution_count": 14,
   "id": "9e75382b",
   "metadata": {},
   "outputs": [
    {
     "name": "stdout",
     "output_type": "stream",
     "text": [
      "1\n",
      "5\n",
      "2\n",
      "[1, 2]\n",
      "[2, 3, 4]\n",
      "[4, 5]\n",
      "[1, 2, 3, 4, 5]\n",
      "[1, 3, 5]\n",
      "[5, 4, 3, 2, 1]\n",
      "[5, 3, 1]\n"
     ]
    }
   ],
   "source": [
    "print(list1[0])\n",
    "print(list1[-1])\n",
    "\n",
    "i = 0\n",
    "print(list1[i+1])\n",
    "\n",
    "print(list1[:2])\n",
    "print(list1[1:4])\n",
    "print(list1[3:])\n",
    "print(list1[:])\n",
    "print(list1[::2])\n",
    "print(list1[::-1])\n",
    "print(list1[::-2])"
   ]
  },
  {
   "cell_type": "markdown",
   "id": "2b5f8294",
   "metadata": {},
   "source": [
    "Lists are **mutable**: we can change both the contents and the size of a list"
   ]
  },
  {
   "cell_type": "code",
   "execution_count": 15,
   "id": "6b3e32f0",
   "metadata": {},
   "outputs": [
    {
     "name": "stdout",
     "output_type": "stream",
     "text": [
      "[100, 2, 3, 4, 5]\n",
      "[100, 200, 300, 4, 5]\n"
     ]
    }
   ],
   "source": [
    "list1[0] = 100\n",
    "print(list1)\n",
    "\n",
    "list1[1:3] = [200, 300]\n",
    "print(list1)"
   ]
  },
  {
   "cell_type": "code",
   "execution_count": 16,
   "id": "8615d7f0",
   "metadata": {},
   "outputs": [
    {
     "name": "stdout",
     "output_type": "stream",
     "text": [
      "5\n",
      "[100, 200, 300, 4, 5, 600]\n",
      "6\n"
     ]
    }
   ],
   "source": [
    "print(len(list1))\n",
    "list1.append(600)\n",
    "print(list1)\n",
    "print(len(list1))"
   ]
  },
  {
   "cell_type": "markdown",
   "id": "1e0608e8",
   "metadata": {},
   "source": [
    "Comparing lists"
   ]
  },
  {
   "cell_type": "code",
   "execution_count": 17,
   "id": "b032d97b",
   "metadata": {},
   "outputs": [
    {
     "name": "stdout",
     "output_type": "stream",
     "text": [
      "True\n",
      "False\n"
     ]
    }
   ],
   "source": [
    "list2 = list1[:]\n",
    "print(list1 == list2) # have the same elements\n",
    "print(list1 is list2) # stored in different place in memory"
   ]
  },
  {
   "cell_type": "markdown",
   "id": "43b5510f",
   "metadata": {},
   "source": [
    "List of lists"
   ]
  },
  {
   "cell_type": "code",
   "execution_count": 18,
   "id": "9ac41d5d",
   "metadata": {},
   "outputs": [
    {
     "name": "stdout",
     "output_type": "stream",
     "text": [
      "[[1, 2, 3], [4, 5, 6]]\n",
      "[1, 2, 3]\n",
      "2\n"
     ]
    }
   ],
   "source": [
    "list_lst = [[1, 2, 3], [4, 5, 6]]\n",
    "print(list_lst)\n",
    "\n",
    "print(list_lst[0])\n",
    "print(list_lst[0][1])"
   ]
  },
  {
   "cell_type": "markdown",
   "id": "8dc70fca",
   "metadata": {},
   "source": [
    "One may notice that a list of lists is very similar to a matrix. In practice, we use n-dimentional array object from the numpy package to represent a matrix more often, because it provides better support of linear algebra."
   ]
  },
  {
   "cell_type": "markdown",
   "id": "54c47a4e",
   "metadata": {},
   "source": [
    "### Tuple\n",
    "\n",
    "Tuples are very similar to list. The most obvious difference is that we use parentheses instead of square brackets."
   ]
  },
  {
   "cell_type": "code",
   "execution_count": 19,
   "id": "650afb9b",
   "metadata": {},
   "outputs": [],
   "source": [
    "a = (1, 3)\n",
    "b = ((1, 2), (3, 4))"
   ]
  },
  {
   "cell_type": "markdown",
   "id": "8bcf2219",
   "metadata": {},
   "source": [
    "The most distictive feature of tuple is that tuple is **immutable**, i.e. once a tuple is created, its contents cannot be modiﬁed."
   ]
  },
  {
   "cell_type": "code",
   "execution_count": 22,
   "id": "4708f2fa",
   "metadata": {},
   "outputs": [
    {
     "data": {
      "text/plain": [
       "1"
      ]
     },
     "execution_count": 22,
     "metadata": {},
     "output_type": "execute_result"
    }
   ],
   "source": [
    "a[0]\n",
    "\n",
    "# a[0] = 2\n",
    "# TypeError: 'tuple' object does not support item assignment"
   ]
  },
  {
   "cell_type": "markdown",
   "id": "bda44767",
   "metadata": {},
   "source": [
    "This feature is nice when the data object we want to store should not be easily changed. For instance, the `(latitude, longitude)` of a place."
   ]
  },
  {
   "cell_type": "markdown",
   "id": "af2a8da6",
   "metadata": {},
   "source": [
    "### Dictionary\n",
    "\n",
    "Like lists, dictionaries can be used to store values, but do so by associating each `value` with a unique `key` rather than with a position in a sequence."
   ]
  },
  {
   "cell_type": "code",
   "execution_count": 23,
   "id": "9d6a90f1",
   "metadata": {},
   "outputs": [
    {
     "name": "stdout",
     "output_type": "stream",
     "text": [
      "dict_keys(['estimate', 'se', 'p_value'])\n",
      "dict_items([('estimate', 0.5), ('se', 0.23), ('p_value', 0.05)])\n"
     ]
    }
   ],
   "source": [
    "empty_dict = {}\n",
    "\n",
    "estimate_dict = {\n",
    "    \"estimate\": 0.5,\n",
    "    \"se\": 0.23,\n",
    "    \"p_value\": 0.05\n",
    "}\n",
    "\n",
    "print(estimate_dict.keys())\n",
    "print(estimate_dict.items())"
   ]
  },
  {
   "cell_type": "markdown",
   "id": "72f2c72b",
   "metadata": {},
   "source": [
    "Instead of accessing values by their positions in the data structure, we access them by their keys.\n",
    "\n",
    "- dict[key]\n",
    "- dict.get(key)\n",
    "\n",
    "The difference between the two is that, when key is not in your dictionary, the first one will raise KeyError while the second one will output None"
   ]
  },
  {
   "cell_type": "code",
   "execution_count": 26,
   "id": "169ace57",
   "metadata": {},
   "outputs": [
    {
     "name": "stdout",
     "output_type": "stream",
     "text": [
      "0.5\n",
      "0.23\n",
      "None\n"
     ]
    }
   ],
   "source": [
    "print(estimate_dict[\"estimate\"])\n",
    "print(estimate_dict.get(\"se\"))\n",
    "\n",
    "# print(estimate_dict[\"abc\"])\n",
    "# KeyError: 'abc'\n",
    "print(estimate_dict.get(\"abc\"))"
   ]
  },
  {
   "cell_type": "markdown",
   "id": "abfded77",
   "metadata": {},
   "source": [
    "Add new (key, value) pair to the dictionary:"
   ]
  },
  {
   "cell_type": "code",
   "execution_count": 28,
   "id": "915c113b",
   "metadata": {},
   "outputs": [
    {
     "data": {
      "text/plain": [
       "{'estimate': 0.5, 'se': 0.23, 'p_value': 0.05, 'upper_ci': 0.9508000000000001}"
      ]
     },
     "execution_count": 28,
     "metadata": {},
     "output_type": "execute_result"
    }
   ],
   "source": [
    "estimate_dict[\"upper_ci\"] = estimate_dict[\"estimate\"] + 1.96 * estimate_dict[\"se\"]\n",
    "estimate_dict"
   ]
  },
  {
   "cell_type": "markdown",
   "id": "bbb1acc1",
   "metadata": {},
   "source": [
    "We can also create nested dictionaries:"
   ]
  },
  {
   "cell_type": "code",
   "execution_count": 29,
   "id": "a9ecb956",
   "metadata": {},
   "outputs": [
    {
     "name": "stdout",
     "output_type": "stream",
     "text": [
      "0.5\n"
     ]
    }
   ],
   "source": [
    "estimate_dict = {\n",
    "    \"OLS\": {\"estimate\": 0.5, \"se\": 0.23, \"p_value\": 0.05},\n",
    "    \"IV\" : {\"estimate\": 0.1, \"se\": 0.5, \"p_value\": None}\n",
    "}\n",
    "\n",
    "print(estimate_dict[\"OLS\"][\"estimate\"])"
   ]
  },
  {
   "cell_type": "code",
   "execution_count": 32,
   "id": "9c7833e0",
   "metadata": {},
   "outputs": [],
   "source": [
    "estimates = {\n",
    "    \"Gender\" : {\"beta1\":{\"pe\":1.2, \"se\":0.2, \"t\":6}, \"VCV\": [[1,2],[3,4]]}\n",
    "}"
   ]
  },
  {
   "cell_type": "code",
   "execution_count": 33,
   "id": "a2e45045",
   "metadata": {},
   "outputs": [
    {
     "data": {
      "text/plain": [
       "1.2"
      ]
     },
     "execution_count": 33,
     "metadata": {},
     "output_type": "execute_result"
    }
   ],
   "source": [
    "estimates[\"Gender\"][\"beta1\"][\"pe\"]"
   ]
  },
  {
   "cell_type": "code",
   "execution_count": 35,
   "id": "281b9d96",
   "metadata": {},
   "outputs": [
    {
     "data": {
      "text/plain": [
       "[[1, 2], [3, 4]]"
      ]
     },
     "execution_count": 35,
     "metadata": {},
     "output_type": "execute_result"
    }
   ],
   "source": [
    "estimates[\"Gender\"][\"VCV\"]"
   ]
  },
  {
   "cell_type": "markdown",
   "id": "c5c3fec1",
   "metadata": {},
   "source": [
    "### Conditional statement\n",
    "\n",
    "if-else statement\n",
    "\n",
    "```\n",
    "if <boolean expression>:\n",
    "    <statement>\n",
    "elif <boolean expression>:\n",
    "    <statement>\n",
    "...\n",
    "else:\n",
    "    <statement>\n",
    "```"
   ]
  },
  {
   "cell_type": "code",
   "execution_count": 36,
   "id": "3805449c",
   "metadata": {},
   "outputs": [
    {
     "name": "stdout",
     "output_type": "stream",
     "text": [
      "-1 is negative\n",
      "1\n"
     ]
    }
   ],
   "source": [
    "n = -1\n",
    "if (n > 0):\n",
    "    print(f\"{n} is positive\")\n",
    "elif (n == 0):\n",
    "    print(f\"{n} is 0\")\n",
    "else:\n",
    "    print(f\"{n} is negative\")\n",
    "    n = -n\n",
    "print(n)"
   ]
  },
  {
   "cell_type": "markdown",
   "id": "d252ddac",
   "metadata": {},
   "source": [
    "### For loop"
   ]
  },
  {
   "cell_type": "markdown",
   "id": "6c2361c2",
   "metadata": {},
   "source": [
    "Loop over a range object"
   ]
  },
  {
   "cell_type": "code",
   "execution_count": 39,
   "id": "513f738c",
   "metadata": {
    "scrolled": true
   },
   "outputs": [
    {
     "data": {
      "text/plain": [
       "[0, 1, 2]"
      ]
     },
     "execution_count": 39,
     "metadata": {},
     "output_type": "execute_result"
    }
   ],
   "source": [
    "list(range(3))"
   ]
  },
  {
   "cell_type": "code",
   "execution_count": 37,
   "id": "030f811b",
   "metadata": {},
   "outputs": [
    {
     "name": "stdout",
     "output_type": "stream",
     "text": [
      "0\n",
      "1\n",
      "2\n"
     ]
    }
   ],
   "source": [
    "for i in range(3):\n",
    "    print(i)"
   ]
  },
  {
   "cell_type": "code",
   "execution_count": 41,
   "id": "0e37b446",
   "metadata": {},
   "outputs": [
    {
     "data": {
      "text/plain": [
       "[1, 2, 3, 4]"
      ]
     },
     "execution_count": 41,
     "metadata": {},
     "output_type": "execute_result"
    }
   ],
   "source": [
    "list(range(1,5))"
   ]
  },
  {
   "cell_type": "code",
   "execution_count": 40,
   "id": "fb21bf1d",
   "metadata": {
    "scrolled": true
   },
   "outputs": [
    {
     "name": "stdout",
     "output_type": "stream",
     "text": [
      "1\n",
      "3\n"
     ]
    }
   ],
   "source": [
    "for i in range(1, 5, 2):\n",
    "    print(i)"
   ]
  },
  {
   "cell_type": "markdown",
   "id": "e4dd4f95",
   "metadata": {},
   "source": [
    "Loop over list:"
   ]
  },
  {
   "cell_type": "code",
   "execution_count": 5,
   "id": "da9bf8c3",
   "metadata": {},
   "outputs": [
    {
     "name": "stdout",
     "output_type": "stream",
     "text": [
      "a\n",
      "b\n",
      "c\n"
     ]
    }
   ],
   "source": [
    "lst = [\"a\", \"b\", \"c\"]\n",
    "\n",
    "for element in lst:\n",
    "    print(element)"
   ]
  },
  {
   "cell_type": "markdown",
   "id": "e0dfd6d7",
   "metadata": {},
   "source": [
    "Get both the element and the position index:"
   ]
  },
  {
   "cell_type": "code",
   "execution_count": 43,
   "id": "c36c8532",
   "metadata": {
    "scrolled": true
   },
   "outputs": [
    {
     "name": "stdout",
     "output_type": "stream",
     "text": [
      "0 a\n",
      "1 b\n",
      "2 c\n"
     ]
    }
   ],
   "source": [
    "for i, element in enumerate(lst):\n",
    "    print(i, element)"
   ]
  },
  {
   "cell_type": "markdown",
   "id": "d361c68d",
   "metadata": {},
   "source": [
    "Loop over dictionary:"
   ]
  },
  {
   "cell_type": "code",
   "execution_count": 2,
   "id": "7fb73fd1",
   "metadata": {},
   "outputs": [
    {
     "name": "stdout",
     "output_type": "stream",
     "text": [
      "a\n",
      "b\n",
      "c\n"
     ]
    }
   ],
   "source": [
    "my_dict = {\"a\": 1, \"b\": 2, \"c\": 3}\n",
    "\n",
    "for key in my_dict:\n",
    "    print(key)"
   ]
  },
  {
   "cell_type": "code",
   "execution_count": 3,
   "id": "af5a0ca0",
   "metadata": {},
   "outputs": [
    {
     "name": "stdout",
     "output_type": "stream",
     "text": [
      "a 1\n",
      "b 2\n",
      "c 3\n"
     ]
    }
   ],
   "source": [
    "for key, value in my_dict.items():\n",
    "    print(key, value)"
   ]
  },
  {
   "cell_type": "markdown",
   "id": "206b7c7e",
   "metadata": {},
   "source": [
    "Break a loop:"
   ]
  },
  {
   "cell_type": "code",
   "execution_count": 6,
   "id": "15319815",
   "metadata": {},
   "outputs": [
    {
     "name": "stdout",
     "output_type": "stream",
     "text": [
      "0 a\n",
      "1 b\n"
     ]
    }
   ],
   "source": [
    "for i, element in enumerate(lst):\n",
    "    if i > 1:\n",
    "        break\n",
    "    print(i, element)"
   ]
  },
  {
   "cell_type": "markdown",
   "id": "f1dc8381",
   "metadata": {},
   "source": [
    "Skip iteration:"
   ]
  },
  {
   "cell_type": "code",
   "execution_count": 7,
   "id": "c71ee898",
   "metadata": {},
   "outputs": [
    {
     "name": "stdout",
     "output_type": "stream",
     "text": [
      "1 b\n",
      "2 c\n"
     ]
    }
   ],
   "source": [
    "for i, element in enumerate(lst):\n",
    "    if i == 0:\n",
    "        continue\n",
    "    print(i, element)"
   ]
  },
  {
   "cell_type": "markdown",
   "id": "2d60d67a",
   "metadata": {},
   "source": [
    "### While loop"
   ]
  },
  {
   "cell_type": "code",
   "execution_count": 9,
   "id": "17d2d75d",
   "metadata": {},
   "outputs": [
    {
     "data": {
      "text/plain": [
       "55"
      ]
     },
     "execution_count": 9,
     "metadata": {},
     "output_type": "execute_result"
    }
   ],
   "source": [
    "N = 10\n",
    "i = 1\n",
    "total = 0\n",
    "\n",
    "while i <= N:\n",
    "    total +=  i\n",
    "    i += 1\n",
    "\n",
    "total"
   ]
  },
  {
   "cell_type": "markdown",
   "id": "147f28e3",
   "metadata": {},
   "source": [
    "While loop is generally less robust than for loop. For instance, people might introduce _infinite loop_."
   ]
  },
  {
   "cell_type": "markdown",
   "id": "8c9882eb",
   "metadata": {},
   "source": [
    "### Functions"
   ]
  },
  {
   "cell_type": "markdown",
   "id": "c96356d1-ab76-4e29-b961-0c61ac698a92",
   "metadata": {},
   "source": [
    "Functions help us organize and abstract code. We can define a function as follows:"
   ]
  },
  {
   "cell_type": "code",
   "execution_count": 10,
   "id": "f4139561",
   "metadata": {},
   "outputs": [
    {
     "data": {
      "text/plain": [
       "15"
      ]
     },
     "execution_count": 10,
     "metadata": {},
     "output_type": "execute_result"
    }
   ],
   "source": [
    "def multiply(a, b):\n",
    "\n",
    "    ''' \n",
    "    Compute the product of two values.\n",
    "\n",
    "    Inputs: a, b: the values to be multiplied.\n",
    "    Returns: the product of the inputs\n",
    "    '''\n",
    "    \n",
    "    n = a * b\n",
    "    return n\n",
    "\n",
    "multiply(3, 5)"
   ]
  },
  {
   "cell_type": "markdown",
   "id": "6552efb8-8e59-4af1-b544-9d4c6ad988c0",
   "metadata": {},
   "source": [
    "Alternatively, we can define anonymous functions:\n",
    "\n",
    "```\n",
    "lambda <parameters>: <expression>\n",
    "```"
   ]
  },
  {
   "cell_type": "code",
   "execution_count": 11,
   "id": "22afa91c-15f9-46b2-92bc-ff0acf13e039",
   "metadata": {},
   "outputs": [
    {
     "data": {
      "text/plain": [
       "15"
      ]
     },
     "execution_count": 11,
     "metadata": {},
     "output_type": "execute_result"
    }
   ],
   "source": [
    "f = lambda a, b: a * b \n",
    "\n",
    "# This is bad practice though. Anonymous functions should be annoymous.\n",
    "# We will see why sometimes we want to use anonymous functions later.\n",
    "\n",
    "f(3, 5)"
   ]
  },
  {
   "cell_type": "markdown",
   "id": "58d0e532-0d67-4cad-af0e-89375a6ddb65",
   "metadata": {},
   "source": [
    "### Functional programming\n",
    "\n",
    "One major paradigm of programming languages is the functional paradigm, in which functions are primarily used to compute values. _Functional_, by definition, is a function of functions. For instance, consider the following maps \n",
    "$$h(f, x) = f(x)^2,$$\n",
    "\n",
    "where the function $h$ takes a function $f$ and a value $x$ as inputs. \n",
    "\n",
    "We will introduce two (powerful) functions that reflect the spirit of functional programming, `map` and `reduce`. We want to discuss them because they are closely related to the design of `multiprocessing` package. "
   ]
  },
  {
   "cell_type": "markdown",
   "id": "81bd66a6-c48e-4d55-8e52-9f7a9e8d8b93",
   "metadata": {},
   "source": [
    "Let's say we have a list of values, and we would like to apply a function $f: x\\mapsto x^2$ to each element in the list. The most intuitive way might be using a for loop:"
   ]
  },
  {
   "cell_type": "code",
   "execution_count": 13,
   "id": "c98f3103-9b14-4ac1-adbf-1f937f08d7ef",
   "metadata": {
    "scrolled": true
   },
   "outputs": [
    {
     "name": "stdout",
     "output_type": "stream",
     "text": [
      "[1, 4, 9, 16]\n"
     ]
    }
   ],
   "source": [
    "def f(x):\n",
    "    return x**2\n",
    "\n",
    "x_lst = [1, 2, 3, 4]\n",
    "fx_lst = []\n",
    "for x in x_lst:\n",
    "    fx_lst.append(f(x))\n",
    "print(fx_lst)"
   ]
  },
  {
   "cell_type": "markdown",
   "id": "afee87e7-ff36-4e55-9cd4-57e5c5202563",
   "metadata": {},
   "source": [
    "Alternatively, we can **map** $x$ to $f(x)$ using `map(f, x_lst)`"
   ]
  },
  {
   "cell_type": "code",
   "execution_count": 14,
   "id": "aa2e72ac-709f-4f52-b4ad-d7ea7538eeda",
   "metadata": {},
   "outputs": [
    {
     "data": {
      "text/plain": [
       "[1, 4, 9, 16]"
      ]
     },
     "execution_count": 14,
     "metadata": {},
     "output_type": "execute_result"
    }
   ],
   "source": [
    "list(map(lambda x: x ** 2, x_lst))"
   ]
  },
  {
   "cell_type": "markdown",
   "id": "85b57b72-c0a2-4677-8c4a-5c8d2bcfcb37",
   "metadata": {},
   "source": [
    "Note that we are using an anonymous function because we know that it is a _temporary_ function; we will probably not reuse it in the future. In scenarios like this where we want to apply an temporary function, we can use anonymous functions.\n",
    "\n",
    "We can of course use a function that is already defined as well."
   ]
  },
  {
   "cell_type": "code",
   "execution_count": 15,
   "id": "d43e4aaf-0f2e-43ff-bcf2-850767fc6d85",
   "metadata": {},
   "outputs": [
    {
     "data": {
      "text/plain": [
       "[1, 4, 9, 16]"
      ]
     },
     "execution_count": 15,
     "metadata": {},
     "output_type": "execute_result"
    }
   ],
   "source": [
    "list(map(f, x_lst))"
   ]
  },
  {
   "cell_type": "markdown",
   "id": "855026d1-870b-4302-8e75-6bcc620e4e53",
   "metadata": {},
   "source": [
    "Sometimes, instead of applying the function to each of element, we want to repeatedly applies the function to **reduce** the list to a single value. For instance,\n",
    "- $\\sum$: $\\ldots (((x1 + x2) + x3) + x4) \\ldots $\n",
    "- $\\Pi$: $\\ldots (((x1 \\times x2) \\times x3) \\times x4) \\ldots $\n",
    "- And more generally: $ \\ldots f(f(f(f(x1, x2), x3), x4) \\ldots $"
   ]
  },
  {
   "cell_type": "code",
   "execution_count": 19,
   "id": "083d7e25-2aca-4143-9cce-11c097d0c5a7",
   "metadata": {},
   "outputs": [
    {
     "data": {
      "text/plain": [
       "24"
      ]
     },
     "execution_count": 19,
     "metadata": {},
     "output_type": "execute_result"
    }
   ],
   "source": [
    "from functools import reduce\n",
    "\n",
    "reduce(multiply, x_lst) # take the product of the x_lst"
   ]
  },
  {
   "cell_type": "markdown",
   "id": "7dc85069-c5cf-47f5-935c-4af3171f417b",
   "metadata": {},
   "source": [
    "It is common to use `reduce` after `map`. For example, if we want to compute $\\sum_i x_i^2$, we can do"
   ]
  },
  {
   "cell_type": "code",
   "execution_count": 20,
   "id": "4d7ba49d-61f5-4b7e-ad0a-ac03ef53f434",
   "metadata": {},
   "outputs": [
    {
     "data": {
      "text/plain": [
       "30"
      ]
     },
     "execution_count": 20,
     "metadata": {},
     "output_type": "execute_result"
    }
   ],
   "source": [
    "reduce(lambda x, y: (x + y), list(map(lambda x: x ** 2, x_lst)))"
   ]
  },
  {
   "cell_type": "markdown",
   "id": "5dc7018e-204b-4528-a2d8-8602c7ab32e8",
   "metadata": {},
   "source": [
    "Another major paradigm of programming languages is the objected oriented pradigm which we will cover in the second part."
   ]
  },
  {
   "cell_type": "markdown",
   "id": "598f84b1-a34f-422a-bafa-b7b917deba5f",
   "metadata": {},
   "source": [
    "## Reference\n",
    "\n",
    "- CMSC 12100 by Borja Sotomayor"
   ]
  }
 ],
 "metadata": {
  "kernelspec": {
   "display_name": "Python 3 (ipykernel)",
   "language": "python",
   "name": "python3"
  },
  "language_info": {
   "codemirror_mode": {
    "name": "ipython",
    "version": 3
   },
   "file_extension": ".py",
   "mimetype": "text/x-python",
   "name": "python",
   "nbconvert_exporter": "python",
   "pygments_lexer": "ipython3",
   "version": "3.9.7"
  }
 },
 "nbformat": 4,
 "nbformat_minor": 5
}
