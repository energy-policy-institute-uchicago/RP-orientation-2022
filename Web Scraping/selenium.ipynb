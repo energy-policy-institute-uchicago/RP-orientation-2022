{
 "cells": [
  {
   "cell_type": "markdown",
   "id": "136daa2d",
   "metadata": {},
   "source": [
    "# Using Selenium for browser automation"
   ]
  },
  {
   "cell_type": "markdown",
   "id": "dc2a19c8",
   "metadata": {},
   "source": [
    "Selenium is a powerful tool that automates browsers. In simple words, it means whatever you usually do manually: clicking on links, filling out the forms, scrolling, moving the cursor or pressing a key on a keyboard - can all be automated and can save you a lot of time.\n",
    "\n",
    "In my experience, Selenium was mostly useful when we wanted to download many files that require manual clicks. Instead of clicking on each link, or sometimes going through all the combinations of all the options in several drop-down menus, we used Selenium to automate data collection. Another application of Selenium that I found useful is when you want to scrape data that is constantly updated, and instead of manually refreshing the website, Selenium will do this for you.\n",
    "\n",
    "Main source: https://selenium-python.readthedocs.io/index.html"
   ]
  },
  {
   "cell_type": "code",
   "execution_count": 1,
   "id": "fb8b4d14",
   "metadata": {
    "scrolled": false
   },
   "outputs": [],
   "source": [
    "# !pip install selenium\n",
    "# !pip install --upgrade selenium\n",
    "# !pip install webdriver-manager"
   ]
  },
  {
   "cell_type": "code",
   "execution_count": 2,
   "id": "330b8302",
   "metadata": {},
   "outputs": [],
   "source": [
    "from selenium import webdriver\n",
    "from selenium.webdriver.support.ui import Select\n",
    "from selenium.webdriver.common.by import By\n",
    "from selenium.webdriver.common.action_chains import ActionChains\n",
    "\n",
    "import time\n",
    "import pandas as pd\n",
    "from os.path import expanduser"
   ]
  },
  {
   "cell_type": "code",
   "execution_count": 3,
   "id": "3097e8c4",
   "metadata": {},
   "outputs": [],
   "source": [
    "#Indicate path for downloaded files\n",
    "\n",
    "path = expanduser(\"~/Library/CloudStorage/Box-Box/web_scraping_session/\")\n",
    "# path = expanduser(\"~/Downloads\")"
   ]
  },
  {
   "cell_type": "markdown",
   "id": "41d9e0fc",
   "metadata": {},
   "source": [
    "### Installing a driver manager"
   ]
  },
  {
   "cell_type": "markdown",
   "id": "9d037c62",
   "metadata": {},
   "source": [
    "Selenium requires a driver to interface with the chosen browser. You can choose whatever browser you want to use, for the purposes of this session we use Google Chrome."
   ]
  },
  {
   "cell_type": "code",
   "execution_count": 4,
   "id": "4b4ff277",
   "metadata": {},
   "outputs": [],
   "source": [
    "#load a Chrome driver \n",
    "from selenium.webdriver.chrome.service import Service as ChromeService\n",
    "from webdriver_manager.chrome import ChromeDriverManager"
   ]
  },
  {
   "cell_type": "code",
   "execution_count": 5,
   "id": "c0aa7e6f",
   "metadata": {},
   "outputs": [],
   "source": [
    "#Add a directory for downloaded files\n",
    "options = webdriver.ChromeOptions()\n",
    "preferences = {\"download.default_directory\":path}\n",
    "options.add_experimental_option(\"prefs\", preferences)"
   ]
  },
  {
   "cell_type": "code",
   "execution_count": 6,
   "id": "25d1251a",
   "metadata": {},
   "outputs": [],
   "source": [
    "#Open Chrome browser\n",
    "driver = webdriver.Chrome(service=ChromeService(ChromeDriverManager().install()), options=options)"
   ]
  },
  {
   "cell_type": "markdown",
   "id": "3bbcca62",
   "metadata": {},
   "source": [
    "### Loading website and downloading data from it "
   ]
  },
  {
   "cell_type": "markdown",
   "id": "726399ca",
   "metadata": {},
   "source": [
    "The following are the most frequently used methods:\n",
    "- **driver.get(\"url\")** - navigate to a link\n",
    "- **driver.find_element(By.ID, \"id\")** - locate an element by ID (can be also located by XPATH, CLASS, CSS_SELECTOR, etc). Best practice is to use ID if the element has it since it's unique and short. CSS_SELECTOR and XPATH are also unique but might change if a page's developer makes changes. I choose it based on how robust I want my code to be in the future\n",
    "- **element.click()** - simple click\n",
    "\n",
    "To find an ID or XPATH to the element, open Google Chrome, double-click an element you want and click inspect. You will be able to see ID if it exists, and copy its relative and full XPATHs. \n",
    "\n",
    "If an element you want lacks an ID, and an XPATH is dynamic (sometimes paths to elements refresh every time you refresh a page), you might use CSS_SELECTOR that will connect an element without an ID to a parent element with ID (reference: https://www.w3schools.com/cssref/css_selectors.asp)\n",
    "\n",
    "For example, if you use the following css selector: **driver.find_elements(By.CSS_SELECTOR, '#element_id a[class=\"class_of_elements\"]')**, it means find elements that descend from an element with id=element_id, that have tag *a* and belong to a class=class_of_elements."
   ]
  },
  {
   "cell_type": "code",
   "execution_count": 7,
   "id": "e92272ab",
   "metadata": {},
   "outputs": [],
   "source": [
    "#Open the link with data\n",
    "driver.get(\"https://edgar.jrc.ec.europa.eu/country_profile\")\n",
    "time.sleep(2)"
   ]
  },
  {
   "cell_type": "code",
   "execution_count": 8,
   "id": "79025875",
   "metadata": {},
   "outputs": [],
   "source": [
    "#This element will not be found until you scroll to the section\n",
    "#element_error = driver.find_element(By.CSS_SELECTOR, '#chart1 g[class*=\"highcharts-no-tooltip highcharts-button highcharts-contextbutton\"]')"
   ]
  },
  {
   "cell_type": "code",
   "execution_count": 9,
   "id": "02b45cc7",
   "metadata": {},
   "outputs": [],
   "source": [
    "#We need to scroll to the section we want (I am cheating and scrolling to \"Air and Toxic Pollutants\" which\n",
    "#allows to load the data we want. There are alternative ways to do it, like using the XY coordinates of the page)\n",
    "element = driver.find_element(By.XPATH, \"/html/body/div[3]/div/div[7]/h2\")\n",
    "actions = ActionChains(driver)\n",
    "actions.scroll_to_element(element).perform()\n",
    "time.sleep(3)"
   ]
  },
  {
   "cell_type": "code",
   "execution_count": 12,
   "id": "784276d1",
   "metadata": {},
   "outputs": [
    {
     "ename": "WebDriverException",
     "evalue": "Message: chrome not reachable\n  (Session info: chrome=104.0.5112.82)\nStacktrace:\nBacktrace:\n\tOrdinal0 [0x00AC78B3+2193587]\n\tOrdinal0 [0x00A60681+1771137]\n\tOrdinal0 [0x00974070+802928]\n\tOrdinal0 [0x00969AB2+760498]\n\tOrdinal0 [0x0095CEAF+708271]\n\tOrdinal0 [0x00961142+725314]\n\tOrdinal0 [0x009655C9+742857]\n\tOrdinal0 [0x00975500+808192]\n\tOrdinal0 [0x009CD2C2+1168066]\n\tOrdinal0 [0x009BD5C6+1103302]\n\tOrdinal0 [0x009977E0+948192]\n\tOrdinal0 [0x009986E6+952038]\n\tGetHandleVerifier [0x00D70CB2+2738370]\n\tGetHandleVerifier [0x00D621B8+2678216]\n\tGetHandleVerifier [0x00B517AA+512954]\n\tGetHandleVerifier [0x00B50856+509030]\n\tOrdinal0 [0x00A6743B+1799227]\n\tOrdinal0 [0x00A6BB68+1817448]\n\tOrdinal0 [0x00A6BC55+1817685]\n\tOrdinal0 [0x00A75230+1856048]\n\tBaseThreadInitThunk [0x74F9FA29+25]\n\tRtlGetAppContainerNamedObjectPath [0x76EC7A7E+286]\n\tRtlGetAppContainerNamedObjectPath [0x76EC7A4E+238]\n",
     "output_type": "error",
     "traceback": [
      "\u001b[1;31m---------------------------------------------------------------------------\u001b[0m",
      "\u001b[1;31mWebDriverException\u001b[0m                        Traceback (most recent call last)",
      "\u001b[1;32m~\\AppData\\Local\\Temp/ipykernel_25700/2230164295.py\u001b[0m in \u001b[0;36m<module>\u001b[1;34m\u001b[0m\n\u001b[0;32m      1\u001b[0m \u001b[1;31m#Locate and click a drop-down list\u001b[0m\u001b[1;33m\u001b[0m\u001b[1;33m\u001b[0m\u001b[0m\n\u001b[1;32m----> 2\u001b[1;33m \u001b[0mopen_list\u001b[0m \u001b[1;33m=\u001b[0m \u001b[0mdriver\u001b[0m\u001b[1;33m.\u001b[0m\u001b[0mfind_element\u001b[0m\u001b[1;33m(\u001b[0m\u001b[0mBy\u001b[0m\u001b[1;33m.\u001b[0m\u001b[0mCSS_SELECTOR\u001b[0m\u001b[1;33m,\u001b[0m \u001b[1;34m'#chart1 g[class*=\"highcharts-no-tooltip highcharts-button highcharts-contextbutton\"]'\u001b[0m\u001b[1;33m)\u001b[0m\u001b[1;33m\u001b[0m\u001b[1;33m\u001b[0m\u001b[0m\n\u001b[0m\u001b[0;32m      3\u001b[0m \u001b[0mopen_list\u001b[0m\u001b[1;33m.\u001b[0m\u001b[0mclick\u001b[0m\u001b[1;33m(\u001b[0m\u001b[1;33m)\u001b[0m\u001b[1;33m\u001b[0m\u001b[1;33m\u001b[0m\u001b[0m\n\u001b[0;32m      4\u001b[0m \u001b[0mtime\u001b[0m\u001b[1;33m.\u001b[0m\u001b[0msleep\u001b[0m\u001b[1;33m(\u001b[0m\u001b[1;36m2\u001b[0m\u001b[1;33m)\u001b[0m\u001b[1;33m\u001b[0m\u001b[1;33m\u001b[0m\u001b[0m\n",
      "\u001b[1;32m~\\Anaconda3\\lib\\site-packages\\selenium\\webdriver\\remote\\webdriver.py\u001b[0m in \u001b[0;36mfind_element\u001b[1;34m(self, by, value)\u001b[0m\n\u001b[0;32m    853\u001b[0m             \u001b[0mvalue\u001b[0m \u001b[1;33m=\u001b[0m \u001b[1;34m'[name=\"%s\"]'\u001b[0m \u001b[1;33m%\u001b[0m \u001b[0mvalue\u001b[0m\u001b[1;33m\u001b[0m\u001b[1;33m\u001b[0m\u001b[0m\n\u001b[0;32m    854\u001b[0m \u001b[1;33m\u001b[0m\u001b[0m\n\u001b[1;32m--> 855\u001b[1;33m         return self.execute(Command.FIND_ELEMENT, {\n\u001b[0m\u001b[0;32m    856\u001b[0m             \u001b[1;34m'using'\u001b[0m\u001b[1;33m:\u001b[0m \u001b[0mby\u001b[0m\u001b[1;33m,\u001b[0m\u001b[1;33m\u001b[0m\u001b[1;33m\u001b[0m\u001b[0m\n\u001b[0;32m    857\u001b[0m             'value': value})['value']\n",
      "\u001b[1;32m~\\Anaconda3\\lib\\site-packages\\selenium\\webdriver\\remote\\webdriver.py\u001b[0m in \u001b[0;36mexecute\u001b[1;34m(self, driver_command, params)\u001b[0m\n\u001b[0;32m    426\u001b[0m         \u001b[0mresponse\u001b[0m \u001b[1;33m=\u001b[0m \u001b[0mself\u001b[0m\u001b[1;33m.\u001b[0m\u001b[0mcommand_executor\u001b[0m\u001b[1;33m.\u001b[0m\u001b[0mexecute\u001b[0m\u001b[1;33m(\u001b[0m\u001b[0mdriver_command\u001b[0m\u001b[1;33m,\u001b[0m \u001b[0mparams\u001b[0m\u001b[1;33m)\u001b[0m\u001b[1;33m\u001b[0m\u001b[1;33m\u001b[0m\u001b[0m\n\u001b[0;32m    427\u001b[0m         \u001b[1;32mif\u001b[0m \u001b[0mresponse\u001b[0m\u001b[1;33m:\u001b[0m\u001b[1;33m\u001b[0m\u001b[1;33m\u001b[0m\u001b[0m\n\u001b[1;32m--> 428\u001b[1;33m             \u001b[0mself\u001b[0m\u001b[1;33m.\u001b[0m\u001b[0merror_handler\u001b[0m\u001b[1;33m.\u001b[0m\u001b[0mcheck_response\u001b[0m\u001b[1;33m(\u001b[0m\u001b[0mresponse\u001b[0m\u001b[1;33m)\u001b[0m\u001b[1;33m\u001b[0m\u001b[1;33m\u001b[0m\u001b[0m\n\u001b[0m\u001b[0;32m    429\u001b[0m             response['value'] = self._unwrap_value(\n\u001b[0;32m    430\u001b[0m                 response.get('value', None))\n",
      "\u001b[1;32m~\\Anaconda3\\lib\\site-packages\\selenium\\webdriver\\remote\\errorhandler.py\u001b[0m in \u001b[0;36mcheck_response\u001b[1;34m(self, response)\u001b[0m\n\u001b[0;32m    241\u001b[0m                 \u001b[0malert_text\u001b[0m \u001b[1;33m=\u001b[0m \u001b[0mvalue\u001b[0m\u001b[1;33m[\u001b[0m\u001b[1;34m'alert'\u001b[0m\u001b[1;33m]\u001b[0m\u001b[1;33m.\u001b[0m\u001b[0mget\u001b[0m\u001b[1;33m(\u001b[0m\u001b[1;34m'text'\u001b[0m\u001b[1;33m)\u001b[0m\u001b[1;33m\u001b[0m\u001b[1;33m\u001b[0m\u001b[0m\n\u001b[0;32m    242\u001b[0m             \u001b[1;32mraise\u001b[0m \u001b[0mexception_class\u001b[0m\u001b[1;33m(\u001b[0m\u001b[0mmessage\u001b[0m\u001b[1;33m,\u001b[0m \u001b[0mscreen\u001b[0m\u001b[1;33m,\u001b[0m \u001b[0mstacktrace\u001b[0m\u001b[1;33m,\u001b[0m \u001b[0malert_text\u001b[0m\u001b[1;33m)\u001b[0m  \u001b[1;31m# type: ignore[call-arg]  # mypy is not smart enough here\u001b[0m\u001b[1;33m\u001b[0m\u001b[1;33m\u001b[0m\u001b[0m\n\u001b[1;32m--> 243\u001b[1;33m         \u001b[1;32mraise\u001b[0m \u001b[0mexception_class\u001b[0m\u001b[1;33m(\u001b[0m\u001b[0mmessage\u001b[0m\u001b[1;33m,\u001b[0m \u001b[0mscreen\u001b[0m\u001b[1;33m,\u001b[0m \u001b[0mstacktrace\u001b[0m\u001b[1;33m)\u001b[0m\u001b[1;33m\u001b[0m\u001b[1;33m\u001b[0m\u001b[0m\n\u001b[0m",
      "\u001b[1;31mWebDriverException\u001b[0m: Message: chrome not reachable\n  (Session info: chrome=104.0.5112.82)\nStacktrace:\nBacktrace:\n\tOrdinal0 [0x00AC78B3+2193587]\n\tOrdinal0 [0x00A60681+1771137]\n\tOrdinal0 [0x00974070+802928]\n\tOrdinal0 [0x00969AB2+760498]\n\tOrdinal0 [0x0095CEAF+708271]\n\tOrdinal0 [0x00961142+725314]\n\tOrdinal0 [0x009655C9+742857]\n\tOrdinal0 [0x00975500+808192]\n\tOrdinal0 [0x009CD2C2+1168066]\n\tOrdinal0 [0x009BD5C6+1103302]\n\tOrdinal0 [0x009977E0+948192]\n\tOrdinal0 [0x009986E6+952038]\n\tGetHandleVerifier [0x00D70CB2+2738370]\n\tGetHandleVerifier [0x00D621B8+2678216]\n\tGetHandleVerifier [0x00B517AA+512954]\n\tGetHandleVerifier [0x00B50856+509030]\n\tOrdinal0 [0x00A6743B+1799227]\n\tOrdinal0 [0x00A6BB68+1817448]\n\tOrdinal0 [0x00A6BC55+1817685]\n\tOrdinal0 [0x00A75230+1856048]\n\tBaseThreadInitThunk [0x74F9FA29+25]\n\tRtlGetAppContainerNamedObjectPath [0x76EC7A7E+286]\n\tRtlGetAppContainerNamedObjectPath [0x76EC7A4E+238]\n"
     ]
    }
   ],
   "source": [
    "#Locate and click a drop-down list\n",
    "open_list = driver.find_element(By.CSS_SELECTOR, '#chart1 g[class*=\"highcharts-no-tooltip highcharts-button highcharts-contextbutton\"]')\n",
    "open_list.click()\n",
    "time.sleep(2)"
   ]
  },
  {
   "cell_type": "code",
   "execution_count": null,
   "id": "54fcf0ef",
   "metadata": {},
   "outputs": [],
   "source": [
    "#To download csv files\n",
    "download_csv = driver.find_elements(By.CSS_SELECTOR,'#chart1 li[class=highcharts-menu-item]')[6]\n",
    "download_csv.click()"
   ]
  },
  {
   "cell_type": "code",
   "execution_count": null,
   "id": "0df34fe1",
   "metadata": {
    "scrolled": true
   },
   "outputs": [],
   "source": [
    "pd.read_csv(path+\"/co2-emissions-by-sector.csv\").head()"
   ]
  },
  {
   "cell_type": "code",
   "execution_count": null,
   "id": "7dccc126",
   "metadata": {},
   "outputs": [],
   "source": [
    "#To select different grouping from drop-down menus\n",
    "group = Select(driver.find_element(By.ID, \"select-group\"))\n",
    "group.select_by_value(\"sec\")\n",
    "group.select_by_visible_text(\"Sector\")"
   ]
  },
  {
   "cell_type": "markdown",
   "id": "1b375699",
   "metadata": {},
   "source": [
    "**Exercise:**\n",
    "\n",
    "**Step I.** In Greenhouse Gases chart choose group by Sector and choose sector as Transport. "
   ]
  },
  {
   "cell_type": "code",
   "execution_count": null,
   "id": "c24bf6fd",
   "metadata": {},
   "outputs": [],
   "source": []
  },
  {
   "cell_type": "markdown",
   "id": "c7ef9089",
   "metadata": {},
   "source": [
    "**Step II.** In drop-down menu select \"View data table\" (you do not need to locate the menu again)"
   ]
  },
  {
   "cell_type": "code",
   "execution_count": null,
   "id": "064d1813",
   "metadata": {},
   "outputs": [],
   "source": []
  },
  {
   "cell_type": "markdown",
   "id": "a1ffcbe8",
   "metadata": {},
   "source": [
    "**Step III.** Scrape the table using BeautifulSoup tools\n"
   ]
  },
  {
   "cell_type": "code",
   "execution_count": null,
   "id": "a46e06f5",
   "metadata": {},
   "outputs": [],
   "source": []
  }
 ],
 "metadata": {
  "kernelspec": {
   "display_name": "Python 3 (ipykernel)",
   "language": "python",
   "name": "python3"
  },
  "language_info": {
   "codemirror_mode": {
    "name": "ipython",
    "version": 3
   },
   "file_extension": ".py",
   "mimetype": "text/x-python",
   "name": "python",
   "nbconvert_exporter": "python",
   "pygments_lexer": "ipython3",
   "version": "3.9.7"
  }
 },
 "nbformat": 4,
 "nbformat_minor": 5
}
