{
 "cells": [
  {
   "cell_type": "markdown",
   "id": "dddb82bc",
   "metadata": {},
   "source": [
    "# Quick intro to Shapely"
   ]
  },
  {
   "cell_type": "markdown",
   "id": "d6d1f0da",
   "metadata": {},
   "source": [
    "This jupyter notebook is heavily based on Sebastian Hohmann's GIS course"
   ]
  },
  {
   "cell_type": "markdown",
   "id": "b232983b",
   "metadata": {},
   "source": [
    "Contents:\n",
    "- [1 Overview](#1-Overview)\n",
    "- [2 Points](#2-Points)\n",
    "  - [2.1 Defining points](#2.1-Defining-points)\n",
    "  - [2.2 Getting co-ordinates](#2.2-Getting-co-ordinates)\n",
    "  - [2.3 Calculating distances between points](#2.3-Calculating-distances-between-points)\n",
    "- [3 Lines](#3-Lines)\n",
    "  - [3.1 Defining lines](#3.1-Defining-lines)\n",
    "  - [3.2 Getting co-ordinates, computing length](#3.2-Getting-co-ordinates,-computing-length)\n",
    "- [4 Polygons](#4-Polygons)\n",
    "  - [4.1 Defining Polygons](#4.1-Defining-Polygons)\n",
    "  - [4.2 Getting bounds, envelope, exterior, area, centroid](#4.2-Getting-bounds,-envelope,-exterior,-area,-centroid)\n",
    "    - [4.2.1 bounds](#4.2.1-bounds)\n",
    "  - [4.2.2 envelope](#4.2.2-envelope)\n",
    "    - [4.2.3 exterior](#4.2.3-exterior)\n",
    "    - [4.2.4 area](#4.2.4-area)\n",
    "    - [4.2.5 centroid](#4.2.5-centroid)\n",
    "- [5 Geometry collections](#5-Geometry-collections)"
   ]
  },
  {
   "cell_type": "code",
   "execution_count": 2,
   "id": "3947177f",
   "metadata": {},
   "outputs": [],
   "source": [
    "from shapely.geometry import Point, LineString, Polygon"
   ]
  },
  {
   "cell_type": "markdown",
   "id": "263a36d9",
   "metadata": {},
   "source": [
    "# 1 Overview"
   ]
  },
  {
   "cell_type": "markdown",
   "id": "25f463e6",
   "metadata": {},
   "source": [
    "[Shapely](https://shapely.readthedocs.io/en/stable/manual.html) is a library for geometric objects. Fundamental types are\n",
    "- `Points`\n",
    "- `Lines`\n",
    "- `Polygons`\n",
    "\n",
    "Shapely can \n",
    "- create `Lines` or `Polygons` from `Collections` of `Points`\n",
    "- calculate things like lengths and areas\n",
    "- do geometric operations like `Union`, `Difference`, `Distance`\n",
    "- do spatial queries between geometries like `Intersects`, `Touches`, `Within`\n",
    "\n",
    "Geometric objects are tuples\n",
    "- `Points` can be 2-D (x, y) or 3-D (x, y, z)\n",
    "- `LineString` are sequence of points joined together (i.e. at least two co-ordinate tuples)\n",
    "- `Polygon` filled area of at least 3 co-ordinate tuples\n",
    "\n",
    "Geometric collections\n",
    "- `MultiPoint`, `MultiLineString` and `MultiPolygon` are collections of `Point`, `LineString` and `Polygon` objects (i.e. they consist of multiple parts of the these types of objects)"
   ]
  },
  {
   "cell_type": "markdown",
   "id": "2cf735f0",
   "metadata": {},
   "source": [
    "# 2 Points"
   ]
  },
  {
   "cell_type": "markdown",
   "id": "e4b79de4",
   "metadata": {},
   "source": [
    "## 2.1 Defining points"
   ]
  },
  {
   "cell_type": "code",
   "execution_count": 3,
   "id": "e51e2a7e",
   "metadata": {},
   "outputs": [],
   "source": [
    "p1 = Point(1, 1)\n",
    "p2 = Point(2, 3)\n",
    "p3 = Point(4, -2)"
   ]
  },
  {
   "cell_type": "code",
   "execution_count": 4,
   "id": "4e638288",
   "metadata": {},
   "outputs": [
    {
     "data": {
      "image/svg+xml": [
       "<svg xmlns=\"http://www.w3.org/2000/svg\" xmlns:xlink=\"http://www.w3.org/1999/xlink\" width=\"100.0\" height=\"100.0\" viewBox=\"0.0 0.0 2.0 2.0\" preserveAspectRatio=\"xMinYMin meet\"><g transform=\"matrix(1,0,0,-1,0,2.0)\"><circle cx=\"1.0\" cy=\"1.0\" r=\"0.06\" stroke=\"#555555\" stroke-width=\"0.02\" fill=\"#66cc99\" opacity=\"0.6\" /></g></svg>"
      ],
      "text/plain": [
       "<shapely.geometry.point.Point at 0x27ef6794308>"
      ]
     },
     "execution_count": 4,
     "metadata": {},
     "output_type": "execute_result"
    }
   ],
   "source": [
    "p1"
   ]
  },
  {
   "cell_type": "code",
   "execution_count": 5,
   "id": "0bc6cb81",
   "metadata": {},
   "outputs": [
    {
     "data": {
      "text/plain": [
       "shapely.geometry.point.Point"
      ]
     },
     "execution_count": 5,
     "metadata": {},
     "output_type": "execute_result"
    }
   ],
   "source": [
    "type(p1)"
   ]
  },
  {
   "cell_type": "code",
   "execution_count": 6,
   "id": "7a8c24c3",
   "metadata": {},
   "outputs": [
    {
     "data": {
      "text/plain": [
       "'Point'"
      ]
     },
     "execution_count": 6,
     "metadata": {},
     "output_type": "execute_result"
    }
   ],
   "source": [
    "p1.geom_type"
   ]
  },
  {
   "cell_type": "markdown",
   "id": "5c57c9ce",
   "metadata": {},
   "source": [
    "## 2.2 Getting co-ordinates"
   ]
  },
  {
   "cell_type": "code",
   "execution_count": 7,
   "id": "7fe9a709",
   "metadata": {},
   "outputs": [
    {
     "data": {
      "text/plain": [
       "(array('d', [2.0]), array('d', [3.0]))"
      ]
     },
     "execution_count": 7,
     "metadata": {},
     "output_type": "execute_result"
    }
   ],
   "source": [
    "p2.coords.xy"
   ]
  },
  {
   "cell_type": "code",
   "execution_count": 8,
   "id": "2c2fe58d",
   "metadata": {},
   "outputs": [
    {
     "data": {
      "text/plain": [
       "2.0"
      ]
     },
     "execution_count": 8,
     "metadata": {},
     "output_type": "execute_result"
    }
   ],
   "source": [
    "p2.x"
   ]
  },
  {
   "cell_type": "code",
   "execution_count": 9,
   "id": "00313626",
   "metadata": {},
   "outputs": [
    {
     "data": {
      "text/plain": [
       "3.0"
      ]
     },
     "execution_count": 9,
     "metadata": {},
     "output_type": "execute_result"
    }
   ],
   "source": [
    "p2.y"
   ]
  },
  {
   "cell_type": "markdown",
   "id": "d5b03b6e",
   "metadata": {},
   "source": [
    "## 2.3 Calculating distances between points"
   ]
  },
  {
   "cell_type": "code",
   "execution_count": 10,
   "id": "7e93e257",
   "metadata": {},
   "outputs": [
    {
     "data": {
      "text/plain": [
       "2.23606797749979"
      ]
     },
     "execution_count": 10,
     "metadata": {},
     "output_type": "execute_result"
    }
   ],
   "source": [
    "p1.distance(p2)"
   ]
  },
  {
   "cell_type": "markdown",
   "id": "9c8cbfb7",
   "metadata": {},
   "source": [
    "we can also do this manually"
   ]
  },
  {
   "cell_type": "code",
   "execution_count": 11,
   "id": "456dfb10",
   "metadata": {},
   "outputs": [
    {
     "data": {
      "text/plain": [
       "2.23606797749979"
      ]
     },
     "execution_count": 11,
     "metadata": {},
     "output_type": "execute_result"
    }
   ],
   "source": [
    "((p1.x - p2.x) ** 2 + (p1.y - p2.y) ** 2) ** 0.5"
   ]
  },
  {
   "cell_type": "markdown",
   "id": "cdb0e6ac",
   "metadata": {},
   "source": [
    "# 3 Lines"
   ]
  },
  {
   "cell_type": "markdown",
   "id": "0d485392",
   "metadata": {},
   "source": [
    "## 3.1 Defining lines"
   ]
  },
  {
   "cell_type": "markdown",
   "id": "cb4d08ac",
   "metadata": {},
   "source": [
    "Lines can be defined from \n",
    "- coordinates\n",
    "- `Point` objects"
   ]
  },
  {
   "cell_type": "code",
   "execution_count": 12,
   "id": "b1ceeb63",
   "metadata": {},
   "outputs": [],
   "source": [
    "l1 = LineString([p1, p2, p3])\n",
    "l2 = LineString([(3.2, 1.6), (-2.7, 8.2)])"
   ]
  },
  {
   "cell_type": "code",
   "execution_count": 13,
   "id": "b9a593f7",
   "metadata": {},
   "outputs": [
    {
     "data": {
      "image/svg+xml": [
       "<svg xmlns=\"http://www.w3.org/2000/svg\" xmlns:xlink=\"http://www.w3.org/1999/xlink\" width=\"100.0\" height=\"100.0\" viewBox=\"0.8 -2.2 3.4000000000000004 5.4\" preserveAspectRatio=\"xMinYMin meet\"><g transform=\"matrix(1,0,0,-1,0,1.0)\"><polyline fill=\"none\" stroke=\"#66cc99\" stroke-width=\"0.10800000000000001\" points=\"1.0,1.0 2.0,3.0 4.0,-2.0\" opacity=\"0.8\" /></g></svg>"
      ],
      "text/plain": [
       "<shapely.geometry.linestring.LineString at 0x27ef67acb88>"
      ]
     },
     "execution_count": 13,
     "metadata": {},
     "output_type": "execute_result"
    }
   ],
   "source": [
    "l1"
   ]
  },
  {
   "cell_type": "code",
   "execution_count": 14,
   "id": "b5c4c5b7",
   "metadata": {},
   "outputs": [
    {
     "data": {
      "image/svg+xml": [
       "<svg xmlns=\"http://www.w3.org/2000/svg\" xmlns:xlink=\"http://www.w3.org/1999/xlink\" width=\"100.0\" height=\"100.0\" viewBox=\"-2.9640000000000004 1.336 6.428000000000001 7.127999999999998\" preserveAspectRatio=\"xMinYMin meet\"><g transform=\"matrix(1,0,0,-1,0,9.799999999999999)\"><polyline fill=\"none\" stroke=\"#66cc99\" stroke-width=\"0.14255999999999996\" points=\"3.2,1.6 -2.7,8.2\" opacity=\"0.8\" /></g></svg>"
      ],
      "text/plain": [
       "<shapely.geometry.linestring.LineString at 0x27ef67acb48>"
      ]
     },
     "execution_count": 14,
     "metadata": {},
     "output_type": "execute_result"
    }
   ],
   "source": [
    "l2"
   ]
  },
  {
   "cell_type": "code",
   "execution_count": 15,
   "id": "1bd0d7ab",
   "metadata": {},
   "outputs": [
    {
     "data": {
      "text/plain": [
       "'LineString'"
      ]
     },
     "execution_count": 15,
     "metadata": {},
     "output_type": "execute_result"
    }
   ],
   "source": [
    "l1.geom_type"
   ]
  },
  {
   "cell_type": "markdown",
   "id": "9bf0d993",
   "metadata": {},
   "source": [
    "## 3.2 Getting co-ordinates, computing length"
   ]
  },
  {
   "cell_type": "code",
   "execution_count": 16,
   "id": "60d8776e",
   "metadata": {},
   "outputs": [
    {
     "data": {
      "text/plain": [
       "(array('d', [1.0, 2.0, 4.0]), array('d', [1.0, 3.0, -2.0]))"
      ]
     },
     "execution_count": 16,
     "metadata": {},
     "output_type": "execute_result"
    }
   ],
   "source": [
    "l1.xy"
   ]
  },
  {
   "cell_type": "code",
   "execution_count": 17,
   "id": "49e98778",
   "metadata": {},
   "outputs": [
    {
     "data": {
      "text/plain": [
       "array('d', [1.0, 2.0, 4.0])"
      ]
     },
     "execution_count": 17,
     "metadata": {},
     "output_type": "execute_result"
    }
   ],
   "source": [
    "l1.xy[0]"
   ]
  },
  {
   "cell_type": "code",
   "execution_count": 18,
   "id": "a020dd7a",
   "metadata": {},
   "outputs": [
    {
     "data": {
      "text/plain": [
       "7.6212327846342935"
      ]
     },
     "execution_count": 18,
     "metadata": {},
     "output_type": "execute_result"
    }
   ],
   "source": [
    "l1.length"
   ]
  },
  {
   "cell_type": "markdown",
   "id": "bfc99d30",
   "metadata": {},
   "source": [
    "Once again, we can use the pythagorean theorem to compute the length ourselves"
   ]
  },
  {
   "cell_type": "code",
   "execution_count": 19,
   "id": "54ba1d5d",
   "metadata": {},
   "outputs": [
    {
     "data": {
      "text/plain": [
       "7.6212327846342935"
      ]
     },
     "execution_count": 19,
     "metadata": {},
     "output_type": "execute_result"
    }
   ],
   "source": [
    "(((l1.xy[0][0] - l1.xy[0][1]) ** 2 +\n",
    " (l1.xy[1][0] - l1.xy[1][1]) ** 2) ** 0.5 +\n",
    " ((l1.xy[0][1] - l1.xy[0][2]) ** 2 +\n",
    " (l1.xy[1][1] - l1.xy[1][2]) ** 2) ** 0.5)"
   ]
  },
  {
   "cell_type": "markdown",
   "id": "950c7278",
   "metadata": {},
   "source": [
    "# 4 Polygons"
   ]
  },
  {
   "cell_type": "markdown",
   "id": "4b4f2668",
   "metadata": {},
   "source": [
    "## 4.1 Defining Polygons\n",
    "\n",
    "Once again, we can define polygons from existing `Point` objects or by listing their vertices"
   ]
  },
  {
   "cell_type": "code",
   "execution_count": 20,
   "id": "b206ad80",
   "metadata": {},
   "outputs": [],
   "source": [
    "pol1 = Polygon([p1, p2, p3])\n",
    "pol2 = Polygon([(3.2, 1.6), (-2.7, 8.2), (5.5, 5.5), (8.2, 8.2)])"
   ]
  },
  {
   "cell_type": "code",
   "execution_count": 21,
   "id": "55ff8bd6",
   "metadata": {},
   "outputs": [
    {
     "data": {
      "image/svg+xml": [
       "<svg xmlns=\"http://www.w3.org/2000/svg\" xmlns:xlink=\"http://www.w3.org/1999/xlink\" width=\"100.0\" height=\"100.0\" viewBox=\"0.8 -2.2 3.4000000000000004 5.4\" preserveAspectRatio=\"xMinYMin meet\"><g transform=\"matrix(1,0,0,-1,0,1.0)\"><path fill-rule=\"evenodd\" fill=\"#66cc99\" stroke=\"#555555\" stroke-width=\"0.10800000000000001\" opacity=\"0.6\" d=\"M 1.0,1.0 L 2.0,3.0 L 4.0,-2.0 L 1.0,1.0 z\" /></g></svg>"
      ],
      "text/plain": [
       "<shapely.geometry.polygon.Polygon at 0x27ef67aa148>"
      ]
     },
     "execution_count": 21,
     "metadata": {},
     "output_type": "execute_result"
    }
   ],
   "source": [
    "pol1"
   ]
  },
  {
   "cell_type": "code",
   "execution_count": 22,
   "id": "e677d306",
   "metadata": {},
   "outputs": [
    {
     "data": {
      "image/svg+xml": [
       "<svg xmlns=\"http://www.w3.org/2000/svg\" xmlns:xlink=\"http://www.w3.org/1999/xlink\" width=\"100.0\" height=\"100.0\" viewBox=\"-3.136 1.1640000000000001 11.771999999999998 7.4719999999999995\" preserveAspectRatio=\"xMinYMin meet\"><g transform=\"matrix(1,0,0,-1,0,9.799999999999999)\"><path fill-rule=\"evenodd\" fill=\"#66cc99\" stroke=\"#555555\" stroke-width=\"0.23543999999999998\" opacity=\"0.6\" d=\"M 3.2,1.6 L -2.7,8.2 L 5.5,5.5 L 8.2,8.2 L 3.2,1.6 z\" /></g></svg>"
      ],
      "text/plain": [
       "<shapely.geometry.polygon.Polygon at 0x27ef67aa088>"
      ]
     },
     "execution_count": 22,
     "metadata": {},
     "output_type": "execute_result"
    }
   ],
   "source": [
    "pol2"
   ]
  },
  {
   "cell_type": "code",
   "execution_count": 23,
   "id": "c5b97b0a",
   "metadata": {},
   "outputs": [
    {
     "name": "stdout",
     "output_type": "stream",
     "text": [
      "POLYGON ((1 1, 2 3, 4 -2, 1 1))\n"
     ]
    }
   ],
   "source": [
    "print(pol1)"
   ]
  },
  {
   "cell_type": "markdown",
   "id": "190a0437",
   "metadata": {},
   "source": [
    "Note the double parentheses. this is because polygons can have holes:"
   ]
  },
  {
   "cell_type": "code",
   "execution_count": 24,
   "id": "d1b7e070",
   "metadata": {},
   "outputs": [],
   "source": [
    "exterior = [(-180, 90), (-180, -90), (180, -90), (180, 90)]\n",
    "hole = [(x*0.8, y*0.8) for x, y in exterior]\n",
    "exterior_poly = Polygon(exterior)\n",
    "poly_with_hole = Polygon(shell=exterior, holes=[hole])"
   ]
  },
  {
   "cell_type": "code",
   "execution_count": 25,
   "id": "ff2a9081",
   "metadata": {},
   "outputs": [
    {
     "data": {
      "image/svg+xml": [
       "<svg xmlns=\"http://www.w3.org/2000/svg\" xmlns:xlink=\"http://www.w3.org/1999/xlink\" width=\"300\" height=\"208.8\" viewBox=\"-194.4 -104.4 388.8 208.8\" preserveAspectRatio=\"xMinYMin meet\"><g transform=\"matrix(1,0,0,-1,0,0.0)\"><path fill-rule=\"evenodd\" fill=\"#66cc99\" stroke=\"#555555\" stroke-width=\"2.592\" opacity=\"0.6\" d=\"M -180.0,90.0 L -180.0,-90.0 L 180.0,-90.0 L 180.0,90.0 L -180.0,90.0 z M -144.0,72.0 L -144.0,-72.0 L 144.0,-72.0 L 144.0,72.0 L -144.0,72.0 z\" /></g></svg>"
      ],
      "text/plain": [
       "<shapely.geometry.polygon.Polygon at 0x27ef67b6e88>"
      ]
     },
     "execution_count": 25,
     "metadata": {},
     "output_type": "execute_result"
    }
   ],
   "source": [
    "poly_with_hole"
   ]
  },
  {
   "cell_type": "code",
   "execution_count": 26,
   "id": "2a3a0fee",
   "metadata": {},
   "outputs": [
    {
     "name": "stdout",
     "output_type": "stream",
     "text": [
      "POLYGON ((-180 90, -180 -90, 180 -90, 180 90, -180 90), (-144 72, -144 -72, 144 -72, 144 72, -144 72))\n"
     ]
    }
   ],
   "source": [
    "print(poly_with_hole)"
   ]
  },
  {
   "cell_type": "markdown",
   "id": "4569109d",
   "metadata": {},
   "source": [
    "## 4.2 Getting bounds, envelope, exterior, area, centroid"
   ]
  },
  {
   "cell_type": "markdown",
   "id": "b41d4bff",
   "metadata": {},
   "source": [
    "### 4.2.1 bounds"
   ]
  },
  {
   "cell_type": "markdown",
   "id": "599cdf59",
   "metadata": {},
   "source": [
    "Recall that we had defined `pol1` from `p1`, `p2`, `p3`. "
   ]
  },
  {
   "cell_type": "code",
   "execution_count": 27,
   "id": "8f930abe",
   "metadata": {},
   "outputs": [
    {
     "name": "stdout",
     "output_type": "stream",
     "text": [
      "(array('d', [1.0]), array('d', [1.0]))\n",
      "(array('d', [2.0]), array('d', [3.0]))\n",
      "(array('d', [4.0]), array('d', [-2.0]))\n"
     ]
    }
   ],
   "source": [
    "for p in [p1, p2, p3]:\n",
    "    print(p.xy)"
   ]
  },
  {
   "cell_type": "code",
   "execution_count": 28,
   "id": "c958b098",
   "metadata": {},
   "outputs": [
    {
     "data": {
      "text/plain": [
       "(1.0, -2.0, 4.0, 3.0)"
      ]
     },
     "execution_count": 28,
     "metadata": {},
     "output_type": "execute_result"
    }
   ],
   "source": [
    "pol1.bounds"
   ]
  },
  {
   "cell_type": "code",
   "execution_count": 29,
   "id": "1b801228",
   "metadata": {},
   "outputs": [],
   "source": [
    "?pol1.bounds"
   ]
  },
  {
   "cell_type": "markdown",
   "id": "46f66532",
   "metadata": {},
   "source": [
    "## 4.2.2 envelope"
   ]
  },
  {
   "cell_type": "code",
   "execution_count": 30,
   "id": "239ad6ac",
   "metadata": {},
   "outputs": [
    {
     "data": {
      "image/svg+xml": [
       "<svg xmlns=\"http://www.w3.org/2000/svg\" xmlns:xlink=\"http://www.w3.org/1999/xlink\" width=\"100.0\" height=\"100.0\" viewBox=\"0.8 -2.2 3.4000000000000004 5.4\" preserveAspectRatio=\"xMinYMin meet\"><g transform=\"matrix(1,0,0,-1,0,1.0)\"><path fill-rule=\"evenodd\" fill=\"#66cc99\" stroke=\"#555555\" stroke-width=\"0.10800000000000001\" opacity=\"0.6\" d=\"M 1.0,-2.0 L 4.0,-2.0 L 4.0,3.0 L 1.0,3.0 L 1.0,-2.0 z\" /></g></svg>"
      ],
      "text/plain": [
       "<shapely.geometry.polygon.Polygon at 0x27ef67c2ac8>"
      ]
     },
     "execution_count": 30,
     "metadata": {},
     "output_type": "execute_result"
    }
   ],
   "source": [
    "pol1.envelope"
   ]
  },
  {
   "cell_type": "code",
   "execution_count": 31,
   "id": "c547abb8",
   "metadata": {},
   "outputs": [],
   "source": [
    "?pol1.envelope"
   ]
  },
  {
   "cell_type": "markdown",
   "id": "77524210",
   "metadata": {},
   "source": [
    "### 4.2.3 exterior"
   ]
  },
  {
   "cell_type": "code",
   "execution_count": 32,
   "id": "19013a7f",
   "metadata": {},
   "outputs": [
    {
     "data": {
      "image/svg+xml": [
       "<svg xmlns=\"http://www.w3.org/2000/svg\" xmlns:xlink=\"http://www.w3.org/1999/xlink\" width=\"100.0\" height=\"100.0\" viewBox=\"0.8 -2.2 3.4000000000000004 5.4\" preserveAspectRatio=\"xMinYMin meet\"><g transform=\"matrix(1,0,0,-1,0,1.0)\"><polyline fill=\"none\" stroke=\"#66cc99\" stroke-width=\"0.10800000000000001\" points=\"1.0,1.0 2.0,3.0 4.0,-2.0 1.0,1.0\" opacity=\"0.8\" /></g></svg>"
      ],
      "text/plain": [
       "<shapely.geometry.polygon.LinearRing at 0x27ef67c78c8>"
      ]
     },
     "execution_count": 32,
     "metadata": {},
     "output_type": "execute_result"
    }
   ],
   "source": [
    "pol1.exterior"
   ]
  },
  {
   "cell_type": "code",
   "execution_count": 33,
   "id": "382a93fd",
   "metadata": {},
   "outputs": [
    {
     "data": {
      "text/plain": [
       "(array('d', [1.0, 2.0, 4.0, 1.0]), array('d', [1.0, 3.0, -2.0, 1.0]))"
      ]
     },
     "execution_count": 33,
     "metadata": {},
     "output_type": "execute_result"
    }
   ],
   "source": [
    "pol1.exterior.xy"
   ]
  },
  {
   "cell_type": "code",
   "execution_count": 34,
   "id": "6be06e8a",
   "metadata": {},
   "outputs": [
    {
     "data": {
      "text/plain": [
       "(array('d', [1.0, 4.0, 4.0, 1.0, 1.0]),\n",
       " array('d', [-2.0, -2.0, 3.0, 3.0, -2.0]))"
      ]
     },
     "execution_count": 34,
     "metadata": {},
     "output_type": "execute_result"
    }
   ],
   "source": [
    "pol1.envelope.exterior.xy"
   ]
  },
  {
   "cell_type": "markdown",
   "id": "a3e74d1a",
   "metadata": {},
   "source": [
    "### 4.2.4 area"
   ]
  },
  {
   "cell_type": "code",
   "execution_count": 35,
   "id": "ea3cfc9d",
   "metadata": {},
   "outputs": [
    {
     "data": {
      "text/plain": [
       "4.5"
      ]
     },
     "execution_count": 35,
     "metadata": {},
     "output_type": "execute_result"
    }
   ],
   "source": [
    "pol1.area"
   ]
  },
  {
   "cell_type": "markdown",
   "id": "dbf986d5",
   "metadata": {},
   "source": [
    "This is a simple triangle, so we could easily find its area. For more general shapes, there is the [Shoelace Formula](https://en.wikipedia.org/wiki/Shoelace_formula)"
   ]
  },
  {
   "cell_type": "code",
   "execution_count": 36,
   "id": "f0042647",
   "metadata": {},
   "outputs": [],
   "source": [
    "def area_shoelace(p, is_area=True):\n",
    "    x, y = p.exterior.xy[0], p.exterior.xy[1]\n",
    "    A = 0.5 * sum([x[i]*y[i+1] - x[i+1]*y[i] for i in range(len(x)-1)])\n",
    "    if is_area:\n",
    "        return abs(A)\n",
    "    else:\n",
    "        return A"
   ]
  },
  {
   "cell_type": "code",
   "execution_count": 37,
   "id": "b85132f2",
   "metadata": {},
   "outputs": [
    {
     "data": {
      "text/plain": [
       "4.5"
      ]
     },
     "execution_count": 37,
     "metadata": {},
     "output_type": "execute_result"
    }
   ],
   "source": [
    "area_shoelace(pol1)"
   ]
  },
  {
   "cell_type": "code",
   "execution_count": 38,
   "id": "c395e94a",
   "metadata": {},
   "outputs": [
    {
     "data": {
      "text/plain": [
       "21.255"
      ]
     },
     "execution_count": 38,
     "metadata": {},
     "output_type": "execute_result"
    }
   ],
   "source": [
    "pol2.area"
   ]
  },
  {
   "cell_type": "code",
   "execution_count": 39,
   "id": "b532dfee",
   "metadata": {},
   "outputs": [
    {
     "data": {
      "text/plain": [
       "21.255"
      ]
     },
     "execution_count": 39,
     "metadata": {},
     "output_type": "execute_result"
    }
   ],
   "source": [
    "area_shoelace(pol2)"
   ]
  },
  {
   "cell_type": "markdown",
   "id": "bd10da7e",
   "metadata": {},
   "source": [
    "### 4.2.5 centroid"
   ]
  },
  {
   "cell_type": "code",
   "execution_count": 40,
   "id": "f03aca06",
   "metadata": {},
   "outputs": [
    {
     "data": {
      "image/svg+xml": [
       "<svg xmlns=\"http://www.w3.org/2000/svg\" xmlns:xlink=\"http://www.w3.org/1999/xlink\" width=\"100.0\" height=\"100.0\" viewBox=\"1.3333333333333335 -0.33333333333333337 2.0 2.0\" preserveAspectRatio=\"xMinYMin meet\"><g transform=\"matrix(1,0,0,-1,0,1.333333333333333)\"><circle cx=\"2.3333333333333335\" cy=\"0.6666666666666666\" r=\"0.06\" stroke=\"#555555\" stroke-width=\"0.02\" fill=\"#66cc99\" opacity=\"0.6\" /></g></svg>"
      ],
      "text/plain": [
       "<shapely.geometry.point.Point at 0x27ef67bdb88>"
      ]
     },
     "execution_count": 40,
     "metadata": {},
     "output_type": "execute_result"
    }
   ],
   "source": [
    "pol1.centroid"
   ]
  },
  {
   "cell_type": "code",
   "execution_count": 41,
   "id": "02373c23",
   "metadata": {},
   "outputs": [
    {
     "data": {
      "text/plain": [
       "(array('d', [2.3333333333333335]), array('d', [0.6666666666666666]))"
      ]
     },
     "execution_count": 41,
     "metadata": {},
     "output_type": "execute_result"
    }
   ],
   "source": [
    "pol1.centroid.xy"
   ]
  },
  {
   "cell_type": "code",
   "execution_count": 42,
   "id": "0fbc5e76",
   "metadata": {},
   "outputs": [
    {
     "data": {
      "text/plain": [
       "(array('d', [2.3692307692307693]), array('d', [5.1]))"
      ]
     },
     "execution_count": 42,
     "metadata": {},
     "output_type": "execute_result"
    }
   ],
   "source": [
    "pol2.centroid.xy"
   ]
  },
  {
   "cell_type": "markdown",
   "id": "449e4535",
   "metadata": {},
   "source": [
    "Once again, we can calculate this from scratch"
   ]
  },
  {
   "cell_type": "code",
   "execution_count": 43,
   "id": "d1694e7f",
   "metadata": {},
   "outputs": [],
   "source": [
    "def centroid_from_scratch(p):\n",
    "    \n",
    "    '''\n",
    "    https://en.wikipedia.org/wiki/Centroid#Of_a_polygon\n",
    "    '''\n",
    "    x, y = p.exterior.xy[0], p.exterior.xy[1]\n",
    "    A = area_shoelace(p, is_area=False)\n",
    "    Cx = (1/(6*A)) * sum([(x[i] + x[i+1])*(x[i]*y[i+1] - x[i+1]*y[i]) for i in range(len(x)-1)])\n",
    "    Cy = (1/(6*A)) * sum([(y[i] + y[i+1])*(x[i]*y[i+1] - x[i+1]*y[i]) for i in range(len(x)-1)])\n",
    "    return Cx, Cy"
   ]
  },
  {
   "cell_type": "code",
   "execution_count": 44,
   "id": "8b59a66a",
   "metadata": {},
   "outputs": [
    {
     "data": {
      "text/plain": [
       "(2.333333333333333, 0.6666666666666666)"
      ]
     },
     "execution_count": 44,
     "metadata": {},
     "output_type": "execute_result"
    }
   ],
   "source": [
    "centroid_from_scratch(pol1)"
   ]
  },
  {
   "cell_type": "code",
   "execution_count": 45,
   "id": "4a131575",
   "metadata": {},
   "outputs": [
    {
     "data": {
      "text/plain": [
       "(2.369230769230769, 5.1)"
      ]
     },
     "execution_count": 45,
     "metadata": {},
     "output_type": "execute_result"
    }
   ],
   "source": [
    "centroid_from_scratch(pol2)"
   ]
  },
  {
   "cell_type": "markdown",
   "id": "68e3a5d9",
   "metadata": {},
   "source": [
    "# 5 Geometry collections"
   ]
  },
  {
   "cell_type": "markdown",
   "id": "a9875d80",
   "metadata": {},
   "source": [
    "We can have collections of `Point`s, `LineString`s and `Polygon`s in a GeoPandas `geometry` field. So it is good to know about them"
   ]
  },
  {
   "cell_type": "code",
   "execution_count": 46,
   "id": "3705f339",
   "metadata": {},
   "outputs": [],
   "source": [
    "from shapely.geometry import MultiPoint, MultiLineString, MultiPolygon"
   ]
  },
  {
   "cell_type": "code",
   "execution_count": 47,
   "id": "51ce8bc0",
   "metadata": {},
   "outputs": [],
   "source": [
    "mpt = MultiPoint([p1, p2, p3])\n",
    "mln = MultiLineString([l1, l2])\n",
    "mpo = MultiPolygon([pol1, pol2])"
   ]
  },
  {
   "cell_type": "code",
   "execution_count": 48,
   "id": "4f8c59aa",
   "metadata": {},
   "outputs": [
    {
     "data": {
      "image/svg+xml": [
       "<svg xmlns=\"http://www.w3.org/2000/svg\" xmlns:xlink=\"http://www.w3.org/1999/xlink\" width=\"100.0\" height=\"100.0\" viewBox=\"0.8 -2.2 3.4000000000000004 5.4\" preserveAspectRatio=\"xMinYMin meet\"><g transform=\"matrix(1,0,0,-1,0,1.0)\"><g><circle cx=\"1.0\" cy=\"1.0\" r=\"0.16200000000000003\" stroke=\"#555555\" stroke-width=\"0.054000000000000006\" fill=\"#66cc99\" opacity=\"0.6\" /><circle cx=\"2.0\" cy=\"3.0\" r=\"0.16200000000000003\" stroke=\"#555555\" stroke-width=\"0.054000000000000006\" fill=\"#66cc99\" opacity=\"0.6\" /><circle cx=\"4.0\" cy=\"-2.0\" r=\"0.16200000000000003\" stroke=\"#555555\" stroke-width=\"0.054000000000000006\" fill=\"#66cc99\" opacity=\"0.6\" /></g></g></svg>"
      ],
      "text/plain": [
       "<shapely.geometry.multipoint.MultiPoint at 0x27ef67df908>"
      ]
     },
     "execution_count": 48,
     "metadata": {},
     "output_type": "execute_result"
    }
   ],
   "source": [
    "mpt"
   ]
  },
  {
   "cell_type": "code",
   "execution_count": 49,
   "id": "d7ff9ef2",
   "metadata": {},
   "outputs": [
    {
     "name": "stdout",
     "output_type": "stream",
     "text": [
      "MULTIPOINT (1 1, 2 3, 4 -2)\n"
     ]
    }
   ],
   "source": [
    "print(mpt)"
   ]
  },
  {
   "cell_type": "code",
   "execution_count": 50,
   "id": "a607b4e8",
   "metadata": {},
   "outputs": [
    {
     "data": {
      "image/svg+xml": [
       "<svg xmlns=\"http://www.w3.org/2000/svg\" xmlns:xlink=\"http://www.w3.org/1999/xlink\" width=\"100.0\" height=\"100.0\" viewBox=\"-3.108 -2.408 7.516 11.015999999999998\" preserveAspectRatio=\"xMinYMin meet\"><g transform=\"matrix(1,0,0,-1,0,6.199999999999999)\"><g><polyline fill=\"none\" stroke=\"#66cc99\" stroke-width=\"0.22031999999999996\" points=\"1.0,1.0 2.0,3.0 4.0,-2.0\" opacity=\"0.8\" /><polyline fill=\"none\" stroke=\"#66cc99\" stroke-width=\"0.22031999999999996\" points=\"3.2,1.6 -2.7,8.2\" opacity=\"0.8\" /></g></g></svg>"
      ],
      "text/plain": [
       "<shapely.geometry.multilinestring.MultiLineString at 0x27ef67df8c8>"
      ]
     },
     "execution_count": 50,
     "metadata": {},
     "output_type": "execute_result"
    }
   ],
   "source": [
    "mln"
   ]
  },
  {
   "cell_type": "code",
   "execution_count": 51,
   "id": "8d70481d",
   "metadata": {},
   "outputs": [
    {
     "name": "stdout",
     "output_type": "stream",
     "text": [
      "MULTILINESTRING ((1 1, 2 3, 4 -2), (3.2 1.6, -2.7 8.199999999999999))\n"
     ]
    }
   ],
   "source": [
    "print(mln)"
   ]
  },
  {
   "cell_type": "code",
   "execution_count": 52,
   "id": "671661e0",
   "metadata": {},
   "outputs": [
    {
     "data": {
      "image/svg+xml": [
       "<svg xmlns=\"http://www.w3.org/2000/svg\" xmlns:xlink=\"http://www.w3.org/1999/xlink\" width=\"100.0\" height=\"100.0\" viewBox=\"-3.136 -2.436 11.771999999999998 11.072\" preserveAspectRatio=\"xMinYMin meet\"><g transform=\"matrix(1,0,0,-1,0,6.199999999999999)\"><g><path fill-rule=\"evenodd\" fill=\"#ff3333\" stroke=\"#555555\" stroke-width=\"0.23543999999999998\" opacity=\"0.6\" d=\"M 1.0,1.0 L 2.0,3.0 L 4.0,-2.0 L 1.0,1.0 z\" /><path fill-rule=\"evenodd\" fill=\"#ff3333\" stroke=\"#555555\" stroke-width=\"0.23543999999999998\" opacity=\"0.6\" d=\"M 3.2,1.6 L -2.7,8.2 L 5.5,5.5 L 8.2,8.2 L 3.2,1.6 z\" /></g></g></svg>"
      ],
      "text/plain": [
       "<shapely.geometry.multipolygon.MultiPolygon at 0x27ef67bd048>"
      ]
     },
     "execution_count": 52,
     "metadata": {},
     "output_type": "execute_result"
    }
   ],
   "source": [
    "mpo"
   ]
  },
  {
   "cell_type": "code",
   "execution_count": 53,
   "id": "1ddad6f3",
   "metadata": {},
   "outputs": [
    {
     "name": "stdout",
     "output_type": "stream",
     "text": [
      "MULTIPOLYGON (((1 1, 2 3, 4 -2, 1 1)), ((3.2 1.6, -2.7 8.199999999999999, 5.5 5.5, 8.199999999999999 8.199999999999999, 3.2 1.6)))\n"
     ]
    }
   ],
   "source": [
    "print(mpo)"
   ]
  },
  {
   "cell_type": "markdown",
   "id": "b16e40c7",
   "metadata": {},
   "source": [
    "One nice method to know is the `convex_hull`. We can call this on any geometry collection"
   ]
  },
  {
   "cell_type": "code",
   "execution_count": 54,
   "id": "427ea518",
   "metadata": {},
   "outputs": [
    {
     "data": {
      "image/svg+xml": [
       "<svg xmlns=\"http://www.w3.org/2000/svg\" xmlns:xlink=\"http://www.w3.org/1999/xlink\" width=\"100.0\" height=\"100.0\" viewBox=\"0.8 -2.2 3.4000000000000004 5.4\" preserveAspectRatio=\"xMinYMin meet\"><g transform=\"matrix(1,0,0,-1,0,1.0)\"><path fill-rule=\"evenodd\" fill=\"#66cc99\" stroke=\"#555555\" stroke-width=\"0.10800000000000001\" opacity=\"0.6\" d=\"M 4.0,-2.0 L 1.0,1.0 L 2.0,3.0 L 4.0,-2.0 z\" /></g></svg>"
      ],
      "text/plain": [
       "<shapely.geometry.polygon.Polygon at 0x27ef67d23c8>"
      ]
     },
     "execution_count": 54,
     "metadata": {},
     "output_type": "execute_result"
    }
   ],
   "source": [
    "mpt.convex_hull"
   ]
  },
  {
   "cell_type": "code",
   "execution_count": 55,
   "id": "9e21444a",
   "metadata": {},
   "outputs": [
    {
     "data": {
      "image/svg+xml": [
       "<svg xmlns=\"http://www.w3.org/2000/svg\" xmlns:xlink=\"http://www.w3.org/1999/xlink\" width=\"100.0\" height=\"100.0\" viewBox=\"-3.108 -2.408 7.516 11.015999999999998\" preserveAspectRatio=\"xMinYMin meet\"><g transform=\"matrix(1,0,0,-1,0,6.199999999999999)\"><path fill-rule=\"evenodd\" fill=\"#66cc99\" stroke=\"#555555\" stroke-width=\"0.22031999999999996\" opacity=\"0.6\" d=\"M 4.0,-2.0 L 1.0,1.0 L -2.7,8.2 L 2.0,3.0 L 3.2,1.6 L 4.0,-2.0 z\" /></g></svg>"
      ],
      "text/plain": [
       "<shapely.geometry.polygon.Polygon at 0x27ef67d28c8>"
      ]
     },
     "execution_count": 55,
     "metadata": {},
     "output_type": "execute_result"
    }
   ],
   "source": [
    "mln.convex_hull"
   ]
  },
  {
   "cell_type": "code",
   "execution_count": 56,
   "id": "5e869c4a",
   "metadata": {},
   "outputs": [
    {
     "data": {
      "image/svg+xml": [
       "<svg xmlns=\"http://www.w3.org/2000/svg\" xmlns:xlink=\"http://www.w3.org/1999/xlink\" width=\"100.0\" height=\"100.0\" viewBox=\"-3.136 -2.436 11.771999999999998 11.072\" preserveAspectRatio=\"xMinYMin meet\"><g transform=\"matrix(1,0,0,-1,0,6.199999999999999)\"><path fill-rule=\"evenodd\" fill=\"#66cc99\" stroke=\"#555555\" stroke-width=\"0.23543999999999998\" opacity=\"0.6\" d=\"M 4.0,-2.0 L 1.0,1.0 L -2.7,8.2 L 8.2,8.2 L 4.0,-2.0 z\" /></g></svg>"
      ],
      "text/plain": [
       "<shapely.geometry.polygon.Polygon at 0x27ef67db1c8>"
      ]
     },
     "execution_count": 56,
     "metadata": {},
     "output_type": "execute_result"
    }
   ],
   "source": [
    "mpo.convex_hull"
   ]
  },
  {
   "cell_type": "markdown",
   "id": "7858159d",
   "metadata": {},
   "source": [
    "One important property for `MultiPolygon`s is whether they are **valid** -- if their components do not intersect one another."
   ]
  },
  {
   "cell_type": "code",
   "execution_count": 57,
   "id": "74fee5bc",
   "metadata": {},
   "outputs": [
    {
     "data": {
      "text/plain": [
       "False"
      ]
     },
     "execution_count": 57,
     "metadata": {},
     "output_type": "execute_result"
    }
   ],
   "source": [
    "mpo.is_valid"
   ]
  },
  {
   "cell_type": "markdown",
   "id": "ff8197a0",
   "metadata": {},
   "source": [
    "Let's quickly define one that **is** valid"
   ]
  },
  {
   "cell_type": "code",
   "execution_count": 58,
   "id": "eacd1ef9",
   "metadata": {},
   "outputs": [
    {
     "data": {
      "image/svg+xml": [
       "<svg xmlns=\"http://www.w3.org/2000/svg\" xmlns:xlink=\"http://www.w3.org/1999/xlink\" width=\"100.0\" height=\"100.0\" viewBox=\"-3.136 -2.436 11.771999999999998 11.072\" preserveAspectRatio=\"xMinYMin meet\"><g transform=\"matrix(1,0,0,-1,0,6.199999999999999)\"><g><path fill-rule=\"evenodd\" fill=\"#66cc99\" stroke=\"#555555\" stroke-width=\"0.23543999999999998\" opacity=\"0.6\" d=\"M 1.0,1.0 L 2.0,3.0 L 4.0,-2.0 L 1.0,1.0 z\" /><path fill-rule=\"evenodd\" fill=\"#66cc99\" stroke=\"#555555\" stroke-width=\"0.23543999999999998\" opacity=\"0.6\" d=\"M 3.2,2.8 L -2.7,8.2 L 5.5,5.5 L 8.2,8.2 L 3.2,2.8 z\" /></g></g></svg>"
      ],
      "text/plain": [
       "<shapely.geometry.multipolygon.MultiPolygon at 0x27ef67db548>"
      ]
     },
     "execution_count": 58,
     "metadata": {},
     "output_type": "execute_result"
    }
   ],
   "source": [
    "pol3 = Polygon([(3.2, 2.8), (-2.7, 8.2), (5.5, 5.5), (8.2, 8.2)])\n",
    "mpo2 = MultiPolygon([pol1, pol3])\n",
    "mpo2"
   ]
  },
  {
   "cell_type": "code",
   "execution_count": 59,
   "id": "e0dc553e",
   "metadata": {},
   "outputs": [
    {
     "data": {
      "text/plain": [
       "True"
      ]
     },
     "execution_count": 59,
     "metadata": {},
     "output_type": "execute_result"
    }
   ],
   "source": [
    "mpo2.is_valid"
   ]
  },
  {
   "cell_type": "code",
   "execution_count": null,
   "id": "8ffee32e",
   "metadata": {},
   "outputs": [],
   "source": []
  }
 ],
 "metadata": {
  "kernelspec": {
   "display_name": "Python 3 (ipykernel)",
   "language": "python",
   "name": "python3"
  },
  "language_info": {
   "codemirror_mode": {
    "name": "ipython",
    "version": 3
   },
   "file_extension": ".py",
   "mimetype": "text/x-python",
   "name": "python",
   "nbconvert_exporter": "python",
   "pygments_lexer": "ipython3",
   "version": "3.7.13"
  }
 },
 "nbformat": 4,
 "nbformat_minor": 5
}
